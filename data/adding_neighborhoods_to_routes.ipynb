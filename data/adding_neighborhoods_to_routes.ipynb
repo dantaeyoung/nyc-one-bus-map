{
 "cells": [
  {
   "cell_type": "markdown",
   "id": "725232fa-5060-4b48-baec-e14be6e363c7",
   "metadata": {},
   "source": [
    "## Adding routes to neighborhood -- run after routes.geojson has been generated.\n",
    "\n",
    "Then use `geojson-shave` CLI tool to minify."
   ]
  },
  {
   "cell_type": "code",
   "execution_count": null,
   "id": "d01fe28a-0738-46d8-b281-4ff94a7a6e6f",
   "metadata": {},
   "outputs": [],
   "source": [
    "import geopandas as gpd\n",
    "import json\n",
    "\n",
    "# Load neighborhoods and routes GeoJSON files\n",
    "neighborhoods_gdf = gpd.read_file(\"nyc-neighborhoods.geojson\")\n",
    "routes_gdf = gpd.read_file(\"routes.geojson\")\n",
    "\n",
    "# Ensure geometries are in the correct coordinate reference system (CRS)\n",
    "neighborhoods_gdf = neighborhoods_gdf.to_crs(epsg=4326)\n",
    "routes_gdf = routes_gdf.to_crs(epsg=4326)\n",
    "\n",
    "# Function to find neighborhoods a route passes through\n",
    "def get_neighborhoods_for_route(route_geometry):\n",
    "    matched_neighborhoods = []\n",
    "    \n",
    "    for _, neigh in neighborhoods_gdf.iterrows():\n",
    "        if route_geometry.intersects(neigh.geometry):\n",
    "            matched_neighborhoods.append({\n",
    "                \"n\": neigh[\"neighborhood\"],\n",
    "                \"b\": neigh[\"borough\"]\n",
    "            })\n",
    "    \n",
    "    return matched_neighborhoods\n",
    "\n",
    "# Process each route and add neighborhood data\n",
    "routes_gdf[\"neighborhoods\"] = routes_gdf[\"geometry\"].apply(get_neighborhoods_for_route)\n",
    "\n",
    "# Convert back to a GeoJSON format\n",
    "routes_geojson = json.loads(routes_gdf.to_json())\n",
    "\n",
    "# Save updated GeoJSON file\n",
    "with open(\"routes_with_neighborhoods.geojson\", \"w\") as f:\n",
    "    json.dump(routes_geojson, f, indent=2)\n",
    "\n",
    "print(\"Updated GeoJSON file saved as 'routes_with_neighborhoods.geojson'\")\n"
   ]
  }
 ],
 "metadata": {
  "kernelspec": {
   "display_name": "onebusmap",
   "language": "python",
   "name": "onebusmap"
  },
  "language_info": {
   "codemirror_mode": {
    "name": "ipython",
    "version": 3
   },
   "file_extension": ".py",
   "mimetype": "text/x-python",
   "name": "python",
   "nbconvert_exporter": "python",
   "pygments_lexer": "ipython3",
   "version": "3.10.15"
  }
 },
 "nbformat": 4,
 "nbformat_minor": 5
}
